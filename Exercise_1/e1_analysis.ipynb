{
 "cells": [
  {
   "cell_type": "code",
   "execution_count": 16,
   "id": "30bdadd0",
   "metadata": {},
   "outputs": [],
   "source": [
    "import numpy as np\n",
    "import matplotlib.pyplot as plt\n",
    "from scipy.optimize import curve_fit\n",
    "import os\n",
    "import re"
   ]
  },
  {
   "cell_type": "code",
   "execution_count": 38,
   "id": "87efdf65",
   "metadata": {},
   "outputs": [],
   "source": [
    "# get the files\n",
    "directory = 'e7_p2_values'\n",
    "files = []\n",
    "\n",
    "for filename in os.listdir(directory):\n",
    "    f = os.path.join(directory, filename)\n",
    "    # checking if it is a file\n",
    "    if os.path.isfile(f):\n",
    "        files.append(f)\n",
    "        \n",
    "files = sorted(files)"
   ]
  },
  {
   "cell_type": "code",
   "execution_count": 39,
   "id": "5f14abfe",
   "metadata": {},
   "outputs": [],
   "source": [
    "# extract the average of the last 50 values of the charging line for each of the files\n",
    "output_values = np.zeros((len(files)-1,1))\n",
    "\n",
    "for i,f in enumerate(files[1:]):\n",
    "    data = np.genfromtxt(f, delimiter=',') \n",
    "    output_values[i] = np.mean(data[:50])"
   ]
  },
  {
   "cell_type": "code",
   "execution_count": 40,
   "id": "5ae3381a",
   "metadata": {},
   "outputs": [
    {
     "data": {
      "text/plain": [
       "array([[  2.3 ],\n",
       "       [ 80.52],\n",
       "       [ 88.96],\n",
       "       [101.38],\n",
       "       [108.48],\n",
       "       [119.78],\n",
       "       [127.98],\n",
       "       [137.34],\n",
       "       [147.66],\n",
       "       [158.54],\n",
       "       [162.68],\n",
       "       [ 10.84],\n",
       "       [176.24],\n",
       "       [178.64],\n",
       "       [190.98],\n",
       "       [202.18],\n",
       "       [212.18],\n",
       "       [224.52],\n",
       "       [ 19.86],\n",
       "       [ 28.34],\n",
       "       [ 37.54],\n",
       "       [ 47.1 ],\n",
       "       [ 55.08],\n",
       "       [ 64.  ],\n",
       "       [ 72.96]])"
      ]
     },
     "execution_count": 40,
     "metadata": {},
     "output_type": "execute_result"
    }
   ],
   "source": [
    "output_values"
   ]
  },
  {
   "cell_type": "code",
   "execution_count": 41,
   "id": "8bbabc8c",
   "metadata": {},
   "outputs": [],
   "source": [
    "input_values = np.zeros((len(files)-1,1))\n",
    "for i,f in enumerate(files[1:]):\n",
    "    input_values[i] = re.findall(r'\\d+', f)[-1] # extract the input value from the filename"
   ]
  },
  {
   "cell_type": "code",
   "execution_count": 49,
   "id": "4daa738f",
   "metadata": {
    "scrolled": true
   },
   "outputs": [],
   "source": [
    "# put them together into an array\n",
    "out = np.concatenate((input_values, output_values), axis=1)\n",
    "out = np.sort(out, axis=0)\n",
    "\n",
    "np.savetxt(\"e1_p2_values.csv\", out, delimiter=\",\")"
   ]
  },
  {
   "cell_type": "code",
   "execution_count": 45,
   "id": "0b182718",
   "metadata": {},
   "outputs": [
    {
     "data": {
      "text/plain": [
       "[<matplotlib.lines.Line2D at 0x7f65382ee670>]"
      ]
     },
     "execution_count": 45,
     "metadata": {},
     "output_type": "execute_result"
    },
    {
     "data": {
      "image/png": "[encoded data removed]",
      "text/plain": [
       "<Figure size 432x288 with 1 Axes>"
      ]
     },
     "metadata": {
      "needs_background": "light"
     },
     "output_type": "display_data"
    }
   ],
   "source": [
    "plt.plot(input_values, output_values, \".\")"
   ]
  },
  {
   "cell_type": "code",
   "execution_count": null,
   "id": "145c3b27",
   "metadata": {},
   "outputs": [],
   "source": []
  }
 ],
 "metadata": {
  "kernelspec": {
   "display_name": "Python 3 (ipykernel)",
   "language": "python",
   "name": "python3"
  },
  "language_info": {
   "codemirror_mode": {
    "name": "ipython",
    "version": 3
   },
   "file_extension": ".py",
   "mimetype": "text/x-python",
   "name": "python",
   "nbconvert_exporter": "python",
   "pygments_lexer": "ipython3",
   "version": "3.8.5"
  }
 },
 "nbformat": 4,
 "nbformat_minor": 5
}
